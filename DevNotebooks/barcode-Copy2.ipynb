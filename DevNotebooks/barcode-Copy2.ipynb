{
 "cells": [
  {
   "cell_type": "code",
   "execution_count": 3,
   "metadata": {},
   "outputs": [],
   "source": [
    "import qrcode\n",
    "import subprocess"
   ]
  },
  {
   "cell_type": "code",
   "execution_count": 16,
   "metadata": {},
   "outputs": [],
   "source": [
    "commit_hash = subprocess.check_output(\"git rev-parse HEAD\".split(\" \")).decode().strip()"
   ]
  },
  {
   "cell_type": "code",
   "execution_count": 17,
   "metadata": {},
   "outputs": [],
   "source": [
    "STL = \"Print_Tests/CityScape_Retraction_Tests_for_Tuning_Your_Firmware_Settings/city_block_2_-_printer_test.stl\"\n",
    "FILAMENT = \"H210-B60\"\n",
    "PRINT = \"fine3_3\"\n",
    "PRINTER = \"CR10\"\n",
    "NOZZLE = \"0.4\"\n",
    "PRINT_CENTER = \"150,150\""
   ]
  },
  {
   "cell_type": "code",
   "execution_count": 19,
   "metadata": {},
   "outputs": [],
   "source": [
    "print_data = dict()\n",
    "print_data[\"COMMIT\"] = commit_hash\n",
    "print_data[\"STL\"] = STL\n",
    "print_data[\"FILAMENT\"] = FILAMENT\n",
    "print_data[\"PRINT\"] = PRINT\n",
    "print_data[\"PRINTER\"] = PRINTER\n",
    "print_data[\"NOZZLE\"] = NOZZLE\n",
    "print_data[\"PRINT_CENTER\"] = PRINT_CENTER"
   ]
  },
  {
   "cell_type": "code",
   "execution_count": 20,
   "metadata": {},
   "outputs": [],
   "source": [
    "import json"
   ]
  },
  {
   "cell_type": "code",
   "execution_count": 37,
   "metadata": {},
   "outputs": [
    {
     "data": {
      "text/plain": [
       "'{\"PRINT_CENTER\": \"150,150\", \"PRINT\": \"fine3_3\", \"NOZZLE\": \"0.4\", \"PRINTER\": \"CR10\", \"FILAMENT\": \"H210-B60\", \"STL\": \"Print_Tests/CityScape_Retraction_Tests_for_Tuning_Your_Firmware_Settings/city_block_2_-_printer_test.stl\", \"COMMIT\": \"c7dbdc9329b285a6009fbefdf43073cfd360277b\"}'"
      ]
     },
     "execution_count": 37,
     "metadata": {},
     "output_type": "execute_result"
    }
   ],
   "source": [
    "print_data_json = json.dumps(print_data)\n",
    "print_data_json"
   ]
  },
  {
   "cell_type": "code",
   "execution_count": 74,
   "metadata": {},
   "outputs": [],
   "source": [
    "qr = qrcode.QRCode(\n",
    "    error_correction=qrcode.constants.ERROR_CORRECT_H,\n",
    "    box_size=50,\n",
    "    border=0,\n",
    ")\n",
    "\n",
    "qr.add_data(print_data_json)\n",
    "print_data_qr = qr.make_image()\n",
    "\n",
    "print_data_qr.save(\"print_data_qr.png\")"
   ]
  },
  {
   "cell_type": "code",
   "execution_count": 110,
   "metadata": {},
   "outputs": [],
   "source": [
    "from pylatex import Document, Section, Subsection, Tabular, Math, TikZ, Axis, \\\n",
    "    Plot, Figure, Matrix, Alignat\n",
    "from pylatex import Document, Section, Subsection, Command\n",
    "\n",
    "from pylatex.utils import italic, NoEscape\n",
    "\n",
    "# Basic document\n",
    "doc = Document('basic')\n",
    "geometry_options = {\"margin\": \"0.7in\"}\n",
    "doc = Document(geometry_options=geometry_options)\n",
    "with doc.create(Section(\"Print Data\")):\n",
    "    for key, value in print_data.items():\n",
    "        doc.append(\"{}: {}\".format(key, value))\n",
    "        doc.append(NoEscape(r\"\\\\\"))\n",
    "\n",
    "\n",
    "with doc.create(Figure(position='h!')) as kitten_pic:\n",
    "    kitten_pic.add_image(\"print_data_qr.png\")\n",
    "\n",
    "doc.generate_pdf(clean_tex=True)"
   ]
  },
  {
   "cell_type": "code",
   "execution_count": 111,
   "metadata": {},
   "outputs": [],
   "source": [
    "!evince basic.pdf"
   ]
  },
  {
   "cell_type": "code",
   "execution_count": null,
   "metadata": {},
   "outputs": [],
   "source": []
  }
 ],
 "metadata": {
  "kernelspec": {
   "display_name": "Python 3",
   "language": "python",
   "name": "python3"
  },
  "language_info": {
   "codemirror_mode": {
    "name": "ipython",
    "version": 3
   },
   "file_extension": ".py",
   "mimetype": "text/x-python",
   "name": "python",
   "nbconvert_exporter": "python",
   "pygments_lexer": "ipython3",
   "version": "3.5.2"
  }
 },
 "nbformat": 4,
 "nbformat_minor": 2
}
