{
 "cells": [
  {
   "cell_type": "code",
   "execution_count": 1,
   "metadata": {},
   "outputs": [
    {
     "name": "stdout",
     "output_type": "stream",
     "text": [
      "Collecting pyBarcode\n",
      "  Downloading pyBarcode-0.7.tar.gz (225kB)\n",
      "\u001b[K    100% |████████████████████████████████| 225kB 3.3MB/s ta 0:00:01\n",
      "\u001b[?25hBuilding wheels for collected packages: pyBarcode\n",
      "  Running setup.py bdist_wheel for pyBarcode ... \u001b[?25ldone\n",
      "\u001b[?25h  Stored in directory: /home/jafrey/.cache/pip/wheels/2b/8b/54/1f0cd59eb057ecc6b2f49db13d4c554d4e2ab18464b2bf96e1\n",
      "Successfully built pyBarcode\n",
      "Installing collected packages: pyBarcode\n",
      "Successfully installed pyBarcode-0.7\n"
     ]
    }
   ],
   "source": [
    "!pip install pyBarcode"
   ]
  },
  {
   "cell_type": "code",
   "execution_count": 2,
   "metadata": {},
   "outputs": [
    {
     "name": "stdout",
     "output_type": "stream",
     "text": [
      "Collecting qrcode\n",
      "  Using cached qrcode-5.3-py2.py3-none-any.whl\n",
      "Requirement already satisfied: six in /projects/3D_Prints/.venv/lib/python3.5/site-packages (from qrcode)\n",
      "Installing collected packages: qrcode\n",
      "Successfully installed qrcode-5.3\n"
     ]
    }
   ],
   "source": [
    "!pip install qrcode"
   ]
  },
  {
   "cell_type": "code",
   "execution_count": 7,
   "metadata": {},
   "outputs": [],
   "source": [
    "import qrcode"
   ]
  },
  {
   "cell_type": "code",
   "execution_count": 17,
   "metadata": {},
   "outputs": [
    {
     "data": {
      "image/png": "[encoded data removed]",
      "text/plain": [
       "<qrcode.image.pil.PilImage at 0x7ff22721ec88>"
      ]
     },
     "execution_count": 17,
     "metadata": {},
     "output_type": "execute_result"
    }
   ],
   "source": [
    "import qrcode\n",
    "qr = qrcode.QRCode(\n",
    "    version=1,\n",
    "    error_correction=qrcode.constants.ERROR_CORRECT_H,\n",
    "    box_size=20,\n",
    "    border=0,\n",
    ")\n",
    "qr.add_data('Some data')\n",
    "qr.make(fit=True)\n",
    "\n",
    "img = qr.make_image()\n",
    "img"
   ]
  },
  {
   "cell_type": "code",
   "execution_count": 18,
   "metadata": {},
   "outputs": [],
   "source": [
    "import subprocess"
   ]
  },
  {
   "cell_type": "code",
   "execution_count": 23,
   "metadata": {},
   "outputs": [],
   "source": [
    "h = subprocess.check_output(\"git rev-parse HEAD\".split(\" \")).decode().strip()"
   ]
  },
  {
   "cell_type": "code",
   "execution_count": 24,
   "metadata": {},
   "outputs": [
    {
     "data": {
      "text/plain": [
       "'c7dbdc9329b285a6009fbefdf43073cfd360277b'"
      ]
     },
     "execution_count": 24,
     "metadata": {},
     "output_type": "execute_result"
    }
   ],
   "source": [
    "h"
   ]
  },
  {
   "cell_type": "code",
   "execution_count": 29,
   "metadata": {},
   "outputs": [],
   "source": [
    "file = \"build/CR10-0.4-H210-B60/Print_Tests/CityScape_Retraction_Tests_for_Tuning_Your_Firmware_Settings/city_block_2_-_printer_test-fine3_3.gcode\""
   ]
  },
  {
   "cell_type": "code",
   "execution_count": 30,
   "metadata": {},
   "outputs": [],
   "source": [
    "from IPython.display import display"
   ]
  },
  {
   "cell_type": "code",
   "execution_count": 34,
   "metadata": {
    "scrolled": true
   },
   "outputs": [
    {
     "data": {
      "image/png": "[encoded data removed]",
      "text/plain": [
       "<qrcode.image.pil.PilImage at 0x7ff226be9e10>"
      ]
     },
     "metadata": {},
     "output_type": "display_data"
    },
    {
     "name": "stdout",
     "output_type": "stream",
     "text": [
      "c7dbdc9329b285a6009fbefdf43073cfd360277b\n"
     ]
    },
    {
     "data": {
      "text/plain": [
       "None"
      ]
     },
     "metadata": {},
     "output_type": "display_data"
    },
    {
     "data": {
      "image/png": "[encoded data removed]",
      "text/plain": [
       "<qrcode.image.pil.PilImage at 0x7ff226be9fd0>"
      ]
     },
     "metadata": {},
     "output_type": "display_data"
    },
    {
     "name": "stdout",
     "output_type": "stream",
     "text": [
      "build/CR10-0.4-H210-B60/Print_Tests/CityScape_Retraction_Tests_for_Tuning_Your_Firmware_Settings/city_block_2_-_printer_test-fine3_3.gcode\n"
     ]
    },
    {
     "data": {
      "text/plain": [
       "None"
      ]
     },
     "metadata": {},
     "output_type": "display_data"
    }
   ],
   "source": [
    "import qrcode\n",
    "qr = qrcode.QRCode(\n",
    "    version=1,\n",
    "    error_correction=qrcode.constants.ERROR_CORRECT_H,\n",
    "    box_size=20,\n",
    "    border=0,\n",
    ")\n",
    "qr.add_data(h)\n",
    "qr.make(fit=True)\n",
    "\n",
    "display(qr.make_image())\n",
    "display(print(h))\n",
    "\n",
    "qr = qrcode.QRCode(\n",
    "    version=1,\n",
    "    error_correction=qrcode.constants.ERROR_CORRECT_H,\n",
    "    box_size=20,\n",
    "    border=0,\n",
    ")\n",
    "qr.add_data(file)\n",
    "qr.make(fit=True)\n",
    "\n",
    "display(qr.make_image())\n",
    "display(print(file))"
   ]
  },
  {
   "cell_type": "code",
   "execution_count": 35,
   "metadata": {},
   "outputs": [
    {
     "name": "stdout",
     "output_type": "stream",
     "text": [
      "Collecting pylatex\n",
      "  Downloading PyLaTeX-1.2.1.tar.gz (73kB)\n",
      "\u001b[K    100% |████████████████████████████████| 81kB 1.2MB/s ta 0:00:01\n",
      "\u001b[?25hCollecting ordered-set (from pylatex)\n",
      "  Downloading ordered-set-2.0.2.tar.gz\n",
      "Building wheels for collected packages: pylatex, ordered-set\n",
      "  Running setup.py bdist_wheel for pylatex ... \u001b[?25ldone\n",
      "\u001b[?25h  Stored in directory: /home/jafrey/.cache/pip/wheels/e1/75/b9/57d4e4c7ab25804800a12e743085012c98bc78d5c0d83f7197\n",
      "  Running setup.py bdist_wheel for ordered-set ... \u001b[?25ldone\n",
      "\u001b[?25h  Stored in directory: /home/jafrey/.cache/pip/wheels/f4/43/ca/fc4c4db9a49c68da81266de2718896dc6a57e7a309e3a80d96\n",
      "Successfully built pylatex ordered-set\n",
      "Installing collected packages: ordered-set, pylatex\n",
      "Successfully installed ordered-set-2.0.2 pylatex-1.2.1\n"
     ]
    }
   ],
   "source": [
    "!pip install pylatex"
   ]
  },
  {
   "cell_type": "code",
   "execution_count": 36,
   "metadata": {},
   "outputs": [
    {
     "name": "stdout",
     "output_type": "stream",
     "text": [
      "Requirement already satisfied: pylatex[matrices] in /projects/3D_Prints/.venv/lib/python3.5/site-packages\n",
      "Requirement already satisfied: ordered-set in /projects/3D_Prints/.venv/lib/python3.5/site-packages (from pylatex[matrices])\n",
      "Collecting numpy; extra == \"matrices\" (from pylatex[matrices])\n",
      "  Using cached numpy-1.14.0-cp35-cp35m-manylinux1_x86_64.whl\n",
      "Installing collected packages: numpy\n",
      "Successfully installed numpy-1.14.0\n"
     ]
    }
   ],
   "source": [
    "!pip install pylatex[matrices]"
   ]
  },
  {
   "cell_type": "code",
   "execution_count": 44,
   "metadata": {},
   "outputs": [],
   "source": [
    "from pylatex import Document, Section, Subsection, Command\n",
    "from pylatex.utils import italic, NoEscape\n",
    "\n",
    "# Basic document\n",
    "doc = Document('basic')\n",
    "\n",
    "doc.preamble.append(Command('title', 'Print Report'))\n",
    "doc.append(NoEscape(r'\\maketitle'))\n",
    "\n",
    "doc.generate_pdf(clean_tex=True)"
   ]
  },
  {
   "cell_type": "code",
   "execution_count": 47,
   "metadata": {
    "scrolled": true
   },
   "outputs": [
    {
     "name": "stdout",
     "output_type": "stream",
     "text": [
      "Help on method make_image in module qrcode.main:\n",
      "\n",
      "make_image(image_factory=None, **kwargs) method of qrcode.main.QRCode instance\n",
      "    Make an image from the QR Code data.\n",
      "    \n",
      "    If the data has not been compiled yet, make it first.\n",
      "\n"
     ]
    }
   ],
   "source": [
    "qr.make_image)"
   ]
  },
  {
   "cell_type": "code",
   "execution_count": 45,
   "metadata": {},
   "outputs": [],
   "source": [
    "!evince basic.pdf"
   ]
  },
  {
   "cell_type": "code",
   "execution_count": null,
   "metadata": {},
   "outputs": [],
   "source": [
    "\n",
    "# Document with `\\maketitle` command activated\n",
    "doc = Document()\n",
    "\n",
    "doc.preamble.append(Command('title', 'Awesome Title'))\n",
    "doc.preamble.append(Command('author', 'Anonymous author'))\n",
    "doc.preamble.append(Command('date', NoEscape(r'\\today')))\n",
    "doc.append(NoEscape(r'\\maketitle'))\n",
    "\n",
    "fill_document(doc)\n",
    "\n",
    "doc.generate_pdf('basic_maketitle', clean_tex=False)\n",
    "\n",
    "# Add stuff to the document\n",
    "with doc.create(Section('A second section')):\n",
    "    doc.append('Some text.')\n",
    "\n",
    "doc.generate_pdf('basic_maketitle2', clean_tex=False)\n",
    "tex = doc.dumps()  # The document as string in LaTeX syntax"
   ]
  },
  {
   "cell_type": "code",
   "execution_count": 50,
   "metadata": {},
   "outputs": [],
   "source": [
    "img = qr.make_image()"
   ]
  },
  {
   "cell_type": "code",
   "execution_count": 51,
   "metadata": {},
   "outputs": [],
   "source": [
    "img.save(\"qr.png\")"
   ]
  }
 ],
 "metadata": {
  "kernelspec": {
   "display_name": "Python 3",
   "language": "python",
   "name": "python3"
  },
  "language_info": {
   "codemirror_mode": {
    "name": "ipython",
    "version": 3
   },
   "file_extension": ".py",
   "mimetype": "text/x-python",
   "name": "python",
   "nbconvert_exporter": "python",
   "pygments_lexer": "ipython3",
   "version": "3.5.2"
  }
 },
 "nbformat": 4,
 "nbformat_minor": 2
}
