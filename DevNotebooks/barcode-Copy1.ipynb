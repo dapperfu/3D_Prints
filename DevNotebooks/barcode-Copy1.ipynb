{
 "cells": [
  {
   "cell_type": "code",
   "execution_count": 2,
   "metadata": {},
   "outputs": [],
   "source": [
    "import qrcode\n",
    "import subprocess"
   ]
  },
  {
   "cell_type": "code",
   "execution_count": 43,
   "metadata": {},
   "outputs": [],
   "source": [
    "h = subprocess.check_output(\"git rev-parse HEAD\".split(\" \")).decode().strip()\n",
    "file = \"build/CR10-0.4-H210-B60/Print_Tests/CityScape_Retraction_Tests_for_Tuning_Your_Firmware_Settings/city_block_2_-_printer_test-fine3_3.gcode\""
   ]
  },
  {
   "cell_type": "code",
   "execution_count": 54,
   "metadata": {},
   "outputs": [],
   "source": [
    "qr = qrcode.QRCode(\n",
    "    error_correction=qrcode.constants.ERROR_CORRECT_H,\n",
    "    box_size=50,\n",
    "    border=0,\n",
    ")"
   ]
  },
  {
   "cell_type": "code",
   "execution_count": 55,
   "metadata": {},
   "outputs": [
    {
     "data": {
      "image/png": "[encoded data removed]",
      "text/plain": [
       "<qrcode.image.pil.PilImage at 0x7f8375098ef0>"
      ]
     },
     "metadata": {},
     "output_type": "display_data"
    },
    {
     "name": "stdout",
     "output_type": "stream",
     "text": [
      "c7dbdc9329b285a6009fbefdf43073cfd360277b\n"
     ]
    },
    {
     "data": {
      "text/plain": [
       "None"
      ]
     },
     "metadata": {},
     "output_type": "display_data"
    }
   ],
   "source": [
    "qr.add_data(h)\n",
    "img = qr.make_image()\n",
    "display(img)\n",
    "display(print(h))"
   ]
  },
  {
   "cell_type": "code",
   "execution_count": 56,
   "metadata": {},
   "outputs": [
    {
     "data": {
      "image/png": "[encoded data removed]",
      "text/plain": [
       "<qrcode.image.pil.PilImage at 0x7f8375098cf8>"
      ]
     },
     "metadata": {},
     "output_type": "display_data"
    },
    {
     "name": "stdout",
     "output_type": "stream",
     "text": [
      "build/CR10-0.4-H210-B60/Print_Tests/CityScape_Retraction_Tests_for_Tuning_Your_Firmware_Settings/city_block_2_-_printer_test-fine3_3.gcode\n"
     ]
    },
    {
     "data": {
      "text/plain": [
       "None"
      ]
     },
     "metadata": {},
     "output_type": "display_data"
    }
   ],
   "source": [
    "qr = qrcode.QRCode(\n",
    "    error_correction=qrcode.constants.ERROR_CORRECT_H,\n",
    "    box_size=50,\n",
    "    border=0,\n",
    ")\n",
    "\n",
    "qr.add_data(file)\n",
    "img2 = qr.make_image()\n",
    "display(img2)\n",
    "display(print(file))"
   ]
  },
  {
   "cell_type": "code",
   "execution_count": 51,
   "metadata": {},
   "outputs": [],
   "source": [
    "img.save(\"commit.png\")\n",
    "img2.save(\"file.png\")"
   ]
  },
  {
   "cell_type": "code",
   "execution_count": 52,
   "metadata": {},
   "outputs": [],
   "source": [
    "from pylatex import Document, Section, Subsection, Tabular, Math, TikZ, Axis, \\\n",
    "    Plot, Figure, Matrix, Alignat\n",
    "from pylatex.utils import italic, NoEscape\n",
    "\n",
    "# Basic document\n",
    "doc = Document('basic')\n",
    "\n",
    "doc.preamble.append(Command('title', 'Print Report'))\n",
    "doc.append(NoEscape(r'\\maketitle'))\n",
    "\n",
    "with doc.create(Subsection('Git Commit')):\n",
    "        with doc.create(Figure(position='h!')) as kitten_pic:\n",
    "            kitten_pic.add_image(\"commit.png\")\n",
    "            kitten_pic.add_caption(h)\n",
    "        with doc.create(Figure(position='h!')) as kitten_pic:\n",
    "            kitten_pic.add_image(\"file.png\")\n",
    "            kitten_pic.add_caption(file)\n",
    "\n",
    "\n",
    "doc.generate_pdf(clean_tex=True)"
   ]
  },
  {
   "cell_type": "code",
   "execution_count": 53,
   "metadata": {},
   "outputs": [],
   "source": [
    "!evince basic.pdf"
   ]
  },
  {
   "cell_type": "code",
   "execution_count": 50,
   "metadata": {},
   "outputs": [],
   "source": [
    "img = qr.make_image()"
   ]
  },
  {
   "cell_type": "code",
   "execution_count": 51,
   "metadata": {},
   "outputs": [],
   "source": [
    "img.save(\"qr.png\")"
   ]
  }
 ],
 "metadata": {
  "kernelspec": {
   "display_name": "Python 3",
   "language": "python",
   "name": "python3"
  },
  "language_info": {
   "codemirror_mode": {
    "name": "ipython",
    "version": 3
   },
   "file_extension": ".py",
   "mimetype": "text/x-python",
   "name": "python",
   "nbconvert_exporter": "python",
   "pygments_lexer": "ipython3",
   "version": "3.5.2"
  }
 },
 "nbformat": 4,
 "nbformat_minor": 2
}
